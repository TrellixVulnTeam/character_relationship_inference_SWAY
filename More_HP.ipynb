{
  "nbformat": 4,
  "nbformat_minor": 0,
  "metadata": {
    "colab": {
      "name": "More HP.ipynb",
      "provenance": [],
      "collapsed_sections": [],
      "toc_visible": true,
      "authorship_tag": "ABX9TyPHRea4g0/eU9ZMtyfOcf/W",
      "include_colab_link": true
    },
    "kernelspec": {
      "name": "python3",
      "display_name": "Python 3"
    },
    "language_info": {
      "name": "python"
    }
  },
  "cells": [
    {
      "cell_type": "markdown",
      "metadata": {
        "id": "view-in-github",
        "colab_type": "text"
      },
      "source": [
        "<a href=\"https://colab.research.google.com/github/s-ruby/character_relationship_inference/blob/main/More_HP.ipynb\" target=\"_parent\"><img src=\"https://colab.research.google.com/assets/colab-badge.svg\" alt=\"Open In Colab\"/></a>"
      ]
    },
    {
      "cell_type": "markdown",
      "metadata": {
        "id": "mqTz8Om7uYBo"
      },
      "source": [
        "## General idea of code\n",
        "\n",
        "\n",
        "*   go through HP, hard code \"< FRIEND>\" around every HP+Ron, hp +hermionie, and foe around hp + draco\n",
        "*   input seeds of friend/foe matching the seeds templates for the other one\n",
        "*   re-run the training , see if it finds any other realtionships based on patterns of seed tuples\n",
        "\n",
        "\n"
      ]
    },
    {
      "cell_type": "code",
      "metadata": {
        "id": "pJWchfvX9yTG"
      },
      "source": [
        "import nltk"
      ],
      "execution_count": 1,
      "outputs": []
    },
    {
      "cell_type": "code",
      "metadata": {
        "colab": {
          "base_uri": "https://localhost:8080/"
        },
        "id": "5IQc3bUW91Ul",
        "outputId": "221564de-6ee1-4ae7-ff1f-809d7b07759b"
      },
      "source": [
        "nltk.download('punkt')"
      ],
      "execution_count": 2,
      "outputs": [
        {
          "output_type": "stream",
          "text": [
            "[nltk_data] Downloading package punkt to /root/nltk_data...\n",
            "[nltk_data]   Unzipping tokenizers/punkt.zip.\n"
          ],
          "name": "stdout"
        },
        {
          "output_type": "execute_result",
          "data": {
            "text/plain": [
              "True"
            ]
          },
          "metadata": {
            "tags": []
          },
          "execution_count": 2
        }
      ]
    },
    {
      "cell_type": "markdown",
      "metadata": {
        "id": "kszdOM-jv2cw"
      },
      "source": [
        "## Process the text, save it to a file"
      ]
    },
    {
      "cell_type": "code",
      "metadata": {
        "id": "C_7SxkXrvj9r"
      },
      "source": [
        "wf = open(\"/content/HP_processed_tag.txt\", 'w')\n",
        "# for sent in FIN:\n",
        "wf.write('')\n",
        "\n",
        "wf.close()\n"
      ],
      "execution_count": 3,
      "outputs": []
    },
    {
      "cell_type": "code",
      "metadata": {
        "id": "YQ1CbjXyouB_"
      },
      "source": [
        "file = open(\"/content/Book 1 - The Philosopher's Stone.txt\")\n",
        "\n",
        "temp = ''\n",
        "\"Page |\"\n",
        "\n",
        "for x in file:\n",
        "  if \"Page |\" not in x:\n",
        "    temp+= x\n",
        "# print(temp)\n",
        "proc = []\n",
        "final = []\n",
        "\n",
        "text = temp.replace(\"Harry\", \"<PER>Harry</PER>\").replace(\"Riddle\", \"<PER>Voldemort</PER>\").replace(\"Quirrell\", \"<PER>Voldemort</PER>\").replace(\"Dark Lord\", \"<PER>Voldemort</PER>\").replace(\"Ron\", \"<PER>Ron</PER>\").replace(\"Hermione\", \"<PER>Hermione</PER>\").replace(\"Malfoy\", \"<PER>Malfoy</PER>\").replace(\"Draco\", \"<PER>Malfoy</PER>\").replace(\"Dumbledore\", \"<PER>Dumbledore</PER>\").replace(\"Snape\", \"<PER>Snape</PER>\").replace(\"Hagrid\", \"<PER>Hagrid</PER>\").replace(\"Ginny\", \"<PER>Ginny</PER>\").replace(\"Dudley\", \"<PER>Dudley</PER>\").replace(\"Dursley\", \"<PER>Dursley</PER>\").replace(\"Neville\", \"<PER>Neville</PER>\").replace(\"He-Who-Must-Not-Be-Named\", \"<PER>Voldemort</PER>\").replace(\"Voldemort\", \"<PER>Voldemort</PER>\").replace(\"McGonagall\", \"<PER>McGonagall</PER>\").replace('\\n', ' ')\n",
        "\n",
        "a_list = nltk.tokenize.sent_tokenize(text)\n",
        "\n",
        "for a in a_list:\n",
        "  if a.count('PER') > 2:\n",
        "    final.append(a)\n",
        "\n",
        "# print(final)\n",
        "\n",
        "file.close()\n",
        "\n",
        "\n",
        "wf = open(\"/content/HP_processed_tag.txt\", 'a')\n",
        "for sent in final:\n",
        "  wf.write(sent + '\\n')\n",
        "\n",
        "wf.close()\n"
      ],
      "execution_count": 4,
      "outputs": []
    },
    {
      "cell_type": "markdown",
      "metadata": {
        "id": "eroRIiavyaRe"
      },
      "source": [
        "### harry potter 3"
      ]
    },
    {
      "cell_type": "code",
      "metadata": {
        "id": "QinXcJaC0Wi_"
      },
      "source": [
        "wf = open(\"HP2_sentences_tags.txt\", 'w')\n",
        "# for sent in FIN:\n",
        "wf.write('')\n",
        "\n",
        "wf.close()\n"
      ],
      "execution_count": 5,
      "outputs": []
    },
    {
      "cell_type": "code",
      "metadata": {
        "id": "gaohKbniuSO4"
      },
      "source": [
        "file = open(\"/content/Book 2 - The Chamber of Secrets.txt\")\n",
        "\n",
        "# print(file.read())\n",
        "temp = ''\n",
        "\"Page |\"\n",
        "\n",
        "for x in file:\n",
        "  if \"Page |\" not in x:\n",
        "    temp+= x\n",
        "# print(temp)\n",
        "proc = []\n",
        "\n",
        "final = []\n",
        "\n",
        "text = temp.replace(\"Harry\", \"<PER>Harry</PER>\").replace(\"Riddle\", \"<PER>Voldemort</PER>\").replace(\"Quirrell\", \"<PER>Voldemort</PER>\").replace(\"Dark Lord\", \"<PER>Voldemort</PER>\").replace(\"Ron\", \"<PER>Ron</PER>\").replace(\"Hermione\", \"<PER>Hermione</PER>\").replace(\"Malfoy\", \"<PER>Malfoy</PER>\").replace(\"Draco\", \"<PER>Malfoy</PER>\").replace(\"Dumbledore\", \"<PER>Dumbledore</PER>\").replace(\"Snape\", \"<PER>Snape</PER>\").replace(\"Hagrid\", \"<PER>Hagrid</PER>\").replace(\"Ginny\", \"<PER>Ginny</PER>\").replace(\"Dudley\", \"<PER>Dudley</PER>\").replace(\"Dursley\", \"<PER>Dursley</PER>\").replace(\"Neville\", \"<PER>Neville</PER>\").replace(\"He-Who-Must-Not-Be-Named\", \"<PER>Voldemort</PER>\").replace(\"Voldemort\", \"<PER>Voldemort</PER>\").replace(\"McGonagall\", \"<PER>McGonagall</PER>\").replace('\\n', ' ')\n",
        "\n",
        "a_list = nltk.tokenize.sent_tokenize(text)\n",
        "\n",
        "for a in a_list:\n",
        "  if a.count('PER') > 2:\n",
        "    final.append(a)\n",
        "\n",
        "# print(final)\n",
        "\n",
        "file.close()\n",
        "\n",
        "\n",
        "wf = open(\"/content/HP_processed_tag.txt\", 'a')\n",
        "for sent in final:\n",
        "  wf.write(sent + '\\n')\n",
        "\n",
        "wf.close()\n"
      ],
      "execution_count": 6,
      "outputs": []
    },
    {
      "cell_type": "markdown",
      "metadata": {
        "id": "7CgF0KeY3zfs"
      },
      "source": [
        "## Third book"
      ]
    },
    {
      "cell_type": "code",
      "metadata": {
        "id": "maGCjzGszI_q"
      },
      "source": [
        "file = open(\"/content/Book 3 - The Prisoner of Azkaban.txt\")\n",
        "\n",
        "# print(file.read())\n",
        "temp = ''\n",
        "\"Page |\"\n",
        "\n",
        "for x in file:\n",
        "  if \"Page |\" not in x:\n",
        "    temp+= x\n",
        "# print(temp)\n",
        "proc = []\n",
        "\n",
        "final = []\n",
        "\n",
        "text = temp.replace(\"Harry\", \"<PER>Harry</PER>\").replace(\"Riddle\", \"<PER>Voldemort</PER>\").replace(\"Quirrell\", \"<PER>Voldemort</PER>\").replace(\"Dark Lord\", \"<PER>Voldemort</PER>\").replace(\"Ron\", \"<PER>Ron</PER>\").replace(\"Hermione\", \"<PER>Hermione</PER>\").replace(\"Malfoy\", \"<PER>Malfoy</PER>\").replace(\"Draco\", \"<PER>Malfoy</PER>\").replace(\"Dumbledore\", \"<PER>Dumbledore</PER>\").replace(\"Snape\", \"<PER>Snape</PER>\").replace(\"Hagrid\", \"<PER>Hagrid</PER>\").replace(\"Ginny\", \"<PER>Ginny</PER>\").replace(\"Dudley\", \"<PER>Dudley</PER>\").replace(\"Dursley\", \"<PER>Dursley</PER>\").replace(\"Neville\", \"<PER>Neville</PER>\").replace(\"He-Who-Must-Not-Be-Named\", \"<PER>Voldemort</PER>\").replace(\"Voldemort\", \"<PER>Voldemort</PER>\").replace(\"McGonagall\", \"<PER>McGonagall</PER>\").replace('\\n', ' ')\n",
        "\n",
        "a_list = nltk.tokenize.sent_tokenize(text)\n",
        "\n",
        "for a in a_list:\n",
        "  if a.count('PER') > 2:\n",
        "    final.append(a)\n",
        "\n",
        "# print(final)\n",
        "\n",
        "file.close()\n",
        "\n",
        "\n",
        "wf = open(\"/content/HP_processed_tag.txt\", 'a')\n",
        "for sent in final:\n",
        "  wf.write(sent + '\\n')\n",
        "\n",
        "wf.close()\n"
      ],
      "execution_count": 7,
      "outputs": []
    },
    {
      "cell_type": "markdown",
      "metadata": {
        "id": "rQSqGUPj32BF"
      },
      "source": [
        "## fourth book"
      ]
    },
    {
      "cell_type": "code",
      "metadata": {
        "id": "zrt01mGQ33L2"
      },
      "source": [
        "file = open(\"/content/Book 4 - The Goblet of Fire.txt\")\n",
        "\n",
        "# print(file.read())\n",
        "temp = ''\n",
        "\"Page |\"\n",
        "\n",
        "for x in file:\n",
        "  if \"Page |\" not in x:\n",
        "    temp+= x\n",
        "# print(temp)\n",
        "proc = []\n",
        "\n",
        "final = []\n",
        "\n",
        "text = temp.replace(\"Harry\", \"<PER>Harry</PER>\").replace(\"Riddle\", \"<PER>Voldemort</PER>\").replace(\"Quirrell\", \"<PER>Voldemort</PER>\").replace(\"Dark Lord\", \"<PER>Voldemort</PER>\").replace(\"Ron\", \"<PER>Ron</PER>\").replace(\"Hermione\", \"<PER>Hermione</PER>\").replace(\"Malfoy\", \"<PER>Malfoy</PER>\").replace(\"Draco\", \"<PER>Malfoy</PER>\").replace(\"Dumbledore\", \"<PER>Dumbledore</PER>\").replace(\"Snape\", \"<PER>Snape</PER>\").replace(\"Hagrid\", \"<PER>Hagrid</PER>\").replace(\"Ginny\", \"<PER>Ginny</PER>\").replace(\"Dudley\", \"<PER>Dudley</PER>\").replace(\"Dursley\", \"<PER>Dursley</PER>\").replace(\"Neville\", \"<PER>Neville</PER>\").replace(\"He-Who-Must-Not-Be-Named\", \"<PER>Voldemort</PER>\").replace(\"Voldemort\", \"<PER>Voldemort</PER>\").replace(\"McGonagall\", \"<PER>McGonagall</PER>\").replace('\\n', ' ')\n",
        "\n",
        "a_list = nltk.tokenize.sent_tokenize(text)\n",
        "\n",
        "for a in a_list:\n",
        "  if a.count('PER') > 2:\n",
        "    final.append(a)\n",
        "\n",
        "# print(final)\n",
        "\n",
        "file.close()\n",
        "\n",
        "\n",
        "wf = open(\"/content/HP_processed_tag.txt\", 'a')\n",
        "for sent in final:\n",
        "  wf.write(sent + '\\n')\n",
        "\n",
        "wf.close()\n"
      ],
      "execution_count": 8,
      "outputs": []
    },
    {
      "cell_type": "markdown",
      "metadata": {
        "id": "dDcoYGTL34S6"
      },
      "source": [
        "## 5th book"
      ]
    },
    {
      "cell_type": "code",
      "metadata": {
        "id": "82SHo_DY35mV"
      },
      "source": [
        "file = open(\"/content/Book 5 - The Order of the Phoenix.txt\")\n",
        "\n",
        "# print(file.read())\n",
        "temp = ''\n",
        "\"Page |\"\n",
        "\n",
        "for x in file:\n",
        "  if \"Page |\" not in x:\n",
        "    temp+= x\n",
        "# print(temp)\n",
        "proc = []\n",
        "\n",
        "final = []\n",
        "\n",
        "text = temp.replace(\"Harry\", \"<PER>Harry</PER>\").replace(\"Riddle\", \"<PER>Voldemort</PER>\").replace(\"Quirrell\", \"<PER>Voldemort</PER>\").replace(\"Dark Lord\", \"<PER>Voldemort</PER>\").replace(\"Ron\", \"<PER>Ron</PER>\").replace(\"Hermione\", \"<PER>Hermione</PER>\").replace(\"Malfoy\", \"<PER>Malfoy</PER>\").replace(\"Draco\", \"<PER>Malfoy</PER>\").replace(\"Dumbledore\", \"<PER>Dumbledore</PER>\").replace(\"Snape\", \"<PER>Snape</PER>\").replace(\"Hagrid\", \"<PER>Hagrid</PER>\").replace(\"Ginny\", \"<PER>Ginny</PER>\").replace(\"Dudley\", \"<PER>Dudley</PER>\").replace(\"Dursley\", \"<PER>Dursley</PER>\").replace(\"Neville\", \"<PER>Neville</PER>\").replace(\"He-Who-Must-Not-Be-Named\", \"<PER>Voldemort</PER>\").replace(\"Voldemort\", \"<PER>Voldemort</PER>\").replace(\"McGonagall\", \"<PER>McGonagall</PER>\").replace('\\n', ' ')\n",
        "\n",
        "a_list = nltk.tokenize.sent_tokenize(text)\n",
        "\n",
        "for a in a_list:\n",
        "  if a.count('PER') > 2:\n",
        "    final.append(a)\n",
        "\n",
        "# print(final)\n",
        "\n",
        "file.close()\n",
        "\n",
        "\n",
        "wf = open(\"/content/HP_processed_tag.txt\", 'a')\n",
        "for sent in final:\n",
        "  wf.write(sent + '\\n')\n",
        "\n",
        "wf.close()\n"
      ],
      "execution_count": 9,
      "outputs": []
    },
    {
      "cell_type": "markdown",
      "metadata": {
        "id": "EGqH9LOc36e3"
      },
      "source": [
        "## 6th book"
      ]
    },
    {
      "cell_type": "code",
      "metadata": {
        "id": "UDSvFFnF38Xu"
      },
      "source": [
        "file = open(\"/content/Book 6 - The Half Blood Prince.txt\")\n",
        "\n",
        "# print(file.read())\n",
        "temp = ''\n",
        "\"Page |\"\n",
        "\n",
        "for x in file:\n",
        "  if \"Page |\" not in x:\n",
        "    temp+= x\n",
        "# print(temp)\n",
        "proc = []\n",
        "\n",
        "final = []\n",
        "\n",
        "text = temp.replace(\"Harry\", \"<PER>Harry</PER>\").replace(\"Riddle\", \"<PER>Voldemort</PER>\").replace(\"Quirrell\", \"<PER>Voldemort</PER>\").replace(\"Dark Lord\", \"<PER>Voldemort</PER>\").replace(\"Ron\", \"<PER>Ron</PER>\").replace(\"Hermione\", \"<PER>Hermione</PER>\").replace(\"Malfoy\", \"<PER>Malfoy</PER>\").replace(\"Draco\", \"<PER>Malfoy</PER>\").replace(\"Dumbledore\", \"<PER>Dumbledore</PER>\").replace(\"Snape\", \"<PER>Snape</PER>\").replace(\"Hagrid\", \"<PER>Hagrid</PER>\").replace(\"Ginny\", \"<PER>Ginny</PER>\").replace(\"Dudley\", \"<PER>Dudley</PER>\").replace(\"Dursley\", \"<PER>Dursley</PER>\").replace(\"Neville\", \"<PER>Neville</PER>\").replace(\"He-Who-Must-Not-Be-Named\", \"<PER>Voldemort</PER>\").replace(\"Voldemort\", \"<PER>Voldemort</PER>\").replace(\"McGonagall\", \"<PER>McGonagall</PER>\").replace('\\n', ' ')\n",
        "\n",
        "a_list = nltk.tokenize.sent_tokenize(text)\n",
        "\n",
        "for a in a_list:\n",
        "  if a.count('PER') > 2:\n",
        "    final.append(a)\n",
        "\n",
        "# print(final)\n",
        "\n",
        "file.close()\n",
        "\n",
        "\n",
        "wf = open(\"/content/HP_processed_tag.txt\", 'a')\n",
        "for sent in final:\n",
        "  wf.write(sent + '\\n')\n",
        "\n",
        "wf.close()\n"
      ],
      "execution_count": 10,
      "outputs": []
    },
    {
      "cell_type": "markdown",
      "metadata": {
        "id": "fKLOOWsX39ER"
      },
      "source": [
        "## 7th book"
      ]
    },
    {
      "cell_type": "code",
      "metadata": {
        "id": "8KYZlmI23_fI"
      },
      "source": [
        "file = open(\"/content/Book 7 - The Deathly Hallows.txt\")\n",
        "\n",
        "# print(file.read())\n",
        "temp = ''\n",
        "\"Page |\"\n",
        "\n",
        "for x in file:\n",
        "  if \"Page |\" not in x:\n",
        "    temp+= x\n",
        "# print(temp)\n",
        "proc = []\n",
        "\n",
        "final = []\n",
        "\n",
        "text = temp.replace(\"Harry\", \"<PER>Harry</PER>\").replace(\"Riddle\", \"<PER>Voldemort</PER>\").replace(\"Quirrell\", \"<PER>Voldemort</PER>\").replace(\"Dark Lord\", \"<PER>Voldemort</PER>\").replace(\"Ron\", \"<PER>Ron</PER>\").replace(\"Hermione\", \"<PER>Hermione</PER>\").replace(\"Malfoy\", \"<PER>Malfoy</PER>\").replace(\"Draco\", \"<PER>Malfoy</PER>\").replace(\"Dumbledore\", \"<PER>Dumbledore</PER>\").replace(\"Snape\", \"<PER>Snape</PER>\").replace(\"Hagrid\", \"<PER>Hagrid</PER>\").replace(\"Ginny\", \"<PER>Ginny</PER>\").replace(\"Dudley\", \"<PER>Dudley</PER>\").replace(\"Dursley\", \"<PER>Dursley</PER>\").replace(\"Neville\", \"<PER>Neville</PER>\").replace(\"He-Who-Must-Not-Be-Named\", \"<PER>Voldemort</PER>\").replace(\"Voldemort\", \"<PER>Voldemort</PER>\").replace(\"McGonagall\", \"<PER>McGonagall</PER>\").replace('\\n', ' ')\n",
        "\n",
        "a_list = nltk.tokenize.sent_tokenize(text)\n",
        "\n",
        "for a in a_list:\n",
        "  if a.count('PER') > 2:\n",
        "    final.append(a)\n",
        "\n",
        "# print(final)\n",
        "\n",
        "file.close()\n",
        "\n",
        "\n",
        "wf = open(\"/content/HP_processed_tag.txt\", 'a')\n",
        "for sent in final:\n",
        "  wf.write(sent + '\\n')\n",
        "\n",
        "wf.close()\n"
      ],
      "execution_count": 11,
      "outputs": []
    },
    {
      "cell_type": "markdown",
      "metadata": {
        "id": "yC1CIEWtqS21"
      },
      "source": [
        "## first vs last book"
      ]
    },
    {
      "cell_type": "code",
      "metadata": {
        "id": "SA4SL4-frBit"
      },
      "source": [
        "import nltk"
      ],
      "execution_count": 12,
      "outputs": []
    },
    {
      "cell_type": "code",
      "metadata": {
        "colab": {
          "base_uri": "https://localhost:8080/"
        },
        "id": "9cXm6Y7crF94",
        "outputId": "2af34cb5-0997-4a4b-d017-94bb982a76a6"
      },
      "source": [
        "nltk.download('punkt')"
      ],
      "execution_count": 13,
      "outputs": [
        {
          "output_type": "stream",
          "text": [
            "[nltk_data] Downloading package punkt to /root/nltk_data...\n",
            "[nltk_data]   Package punkt is already up-to-date!\n"
          ],
          "name": "stdout"
        },
        {
          "output_type": "execute_result",
          "data": {
            "text/plain": [
              "True"
            ]
          },
          "metadata": {
            "tags": []
          },
          "execution_count": 13
        }
      ]
    },
    {
      "cell_type": "code",
      "metadata": {
        "id": "sbv4Id5orxz4"
      },
      "source": [
        "wf = open(\"/content/comparison_hp_final.txt\", 'w')\n",
        "for sent in final:\n",
        "  wf.write('')\n",
        "\n",
        "wf.close()"
      ],
      "execution_count": 14,
      "outputs": []
    },
    {
      "cell_type": "code",
      "metadata": {
        "id": "cdu65czN4ks4"
      },
      "source": [
        "first = open(\"/content/Book 1 - The Philosopher's Stone.txt\")\n",
        "# last = open(\"/content/Book 7 - The Deathly Hallows.txt\")\n",
        "\n",
        "# print(file.read())\n",
        "temp = ''\n",
        "\"Page |\"\n",
        "\n",
        "for x in first:\n",
        "  if \"Page |\" not in x:\n",
        "    temp+= x\n",
        "# print(temp)\n",
        "proc = []\n",
        "\n",
        "final = []\n",
        "\n",
        "text = temp.replace(\"Harry\", \"<PER>Harry</PER>\").replace(\"Ron\", \"<PER>Ron</PER>\").replace(\"Hermione\", \"<PER>Hermione</PER>\").replace(\"Malfoy\", \"<PER>Malfoy</PER>\").replace(\"Draco\", \"<PER>Malfoy</PER>\").replace(\"Dumbledore\", \"<PER>Dumbledore</PER>\").replace(\"Snape\", \"<PER>Snape</PER>\").replace(\"Hagrid\", \"<PER>Hagrid</PER>\").replace(\"Ginny\", \"<PER>Ginny</PER>\").replace(\"Dudley\", \"<PER>Dudley</PER>\").replace(\"Dursley\", \"<PER>Dursley</PER>\").replace(\"Neville\", \"<PER>Neville</PER>\").replace(\"He-Who-Must-Not-Be-Named\", \"<PER>Voldemort</PER>\").replace(\"Voldemort\", \"<PER>Voldemort</PER>\").replace(\"McGonagall\", \"<PER>McGonagall</PER>\").replace('\\n', ' ')\n",
        "\n",
        "a_list = nltk.tokenize.sent_tokenize(text)\n",
        "\n",
        "for a in a_list:\n",
        "  if a.count('PER') > 2:\n",
        "    final.append(a)\n",
        "\n",
        "# print(final)\n",
        "\n",
        "first.close()\n",
        "\n",
        "\n",
        "wf = open(\"/content/comparison_hp_one.txt\", 'a')\n",
        "for sent in final:\n",
        "  wf.write(sent + '\\n')\n",
        "\n",
        "wf.close()\n"
      ],
      "execution_count": 15,
      "outputs": []
    },
    {
      "cell_type": "code",
      "metadata": {
        "id": "3iL-ZNwTq683"
      },
      "source": [
        "# first = open(\"/content/Book 1 - The Philosopher's Stone.txt\")\n",
        "last = open(\"/content/Book 7 - The Deathly Hallows.txt\")\n",
        "\n",
        "# print(file.read())\n",
        "temp = ''\n",
        "\"Page |\"\n",
        "\n",
        "for x in last:\n",
        "  if \"Page |\" not in x:\n",
        "    temp+= x\n",
        "# print(temp)\n",
        "proc = []\n",
        "\n",
        "final = []\n",
        "\n",
        "text = temp.replace(\"Harry\", \"<PER>Harry</PER>\").replace(\"You Know Who\", \"<PER>Voldemort</PER>\").replace(\"HE-Who-Must-Not-Be-Named\", \"<PER>Voldemort</PER>\").replace(\"Riddle\", \"<PER>Voldemort</PER>\").replace(\"Quirrell\", \"<PER>Voldemort</PER>\").replace(\"Dark Lord\", \"<PER>Voldemort</PER>\").replace(\"Ron\", \"<PER>Ron</PER>\").replace(\"Hermione\", \"<PER>Hermione</PER>\").replace(\"Malfoy\", \"<PER>Malfoy</PER>\").replace(\"Draco\", \"<PER>Malfoy</PER>\").replace(\"Dumbledore\", \"<PER>Dumbledore</PER>\").replace(\"Snape\", \"<PER>Snape</PER>\").replace(\"Hagrid\", \"<PER>Hagrid</PER>\").replace(\"Ginny\", \"<PER>Ginny</PER>\").replace(\"Dudley\", \"<PER>Dudley</PER>\").replace(\"Dursley\", \"<PER>Dursley</PER>\").replace(\"Neville\", \"<PER>Neville</PER>\").replace(\"He-Who-Must-Not-Be-Named\", \"<PER>Voldemort</PER>\").replace(\"Voldemort\", \"<PER>Voldemort</PER>\").replace(\"McGonagall\", \"<PER>McGonagall</PER>\").replace('\\n', ' ')\n",
        "\n",
        "a_list = nltk.tokenize.sent_tokenize(text)\n",
        "\n",
        "for a in a_list:\n",
        "  if a.count('PER') > 2:\n",
        "    final.append(a)\n",
        "\n",
        "# print(final)\n",
        "\n",
        "last.close()\n",
        "\n",
        "\n",
        "wf = open(\"/content/comparison_hp_final.txt\", 'a')\n",
        "for sent in final:\n",
        "  wf.write(sent + '\\n')\n",
        "\n",
        "wf.close()\n"
      ],
      "execution_count": 16,
      "outputs": []
    },
    {
      "cell_type": "code",
      "metadata": {
        "id": "nihl7QersVQM"
      },
      "source": [
        ""
      ],
      "execution_count": 16,
      "outputs": []
    },
    {
      "cell_type": "markdown",
      "metadata": {
        "id": "JI5rFfTIZsio"
      },
      "source": [
        "## first vs sixth"
      ]
    },
    {
      "cell_type": "code",
      "metadata": {
        "id": "InRFH-UPZtoj"
      },
      "source": [
        "# first = open(\"/content/Book 1 - The Philosopher's Stone.txt\")\n",
        "last = open(\"/content/Book 6 - The Half Blood Prince.txt\")\n",
        "\n",
        "# print(file.read())\n",
        "temp = ''\n",
        "\"Page |\"\n",
        "\n",
        "for x in last:\n",
        "  if \"Page |\" not in x:\n",
        "    temp+= x\n",
        "# print(temp)\n",
        "proc = []\n",
        "\n",
        "final = []\n",
        "\n",
        "text = temp.replace(\"Harry\", \"<PER>Harry</PER>\").replace(\"You Know Who\", \"<PER>Voldemort</PER>\").replace(\"He-Who-Must-Not-Be-Named\", \"<PER>Voldemort</PER>\").replace(\"Riddle\", \"<PER>Voldemort</PER>\").replace(\"Quirrell\", \"<PER>Voldemort</PER>\").replace(\"Dark Lord\", \"<PER>Voldemort</PER>\").replace(\"Ron\", \"<PER>Ron</PER>\").replace(\"Hermione\", \"<PER>Hermione</PER>\").replace(\"Malfoy\", \"<PER>Malfoy</PER>\").replace(\"Draco\", \"<PER>Malfoy</PER>\").replace(\"Dumbledore\", \"<PER>Dumbledore</PER>\").replace(\"Snape\", \"<PER>Snape</PER>\").replace(\"Hagrid\", \"<PER>Hagrid</PER>\").replace(\"Ginny\", \"<PER>Ginny</PER>\").replace(\"Dudley\", \"<PER>Dudley</PER>\").replace(\"Dursley\", \"<PER>Dursley</PER>\").replace(\"Neville\", \"<PER>Neville</PER>\").replace(\"He-Who-Must-Not-Be-Named\", \"<PER>Voldemort</PER>\").replace(\"Voldemort\", \"<PER>Voldemort</PER>\").replace(\"McGonagall\", \"<PER>McGonagall</PER>\").replace('\\n', ' ')\n",
        "\n",
        "a_list = nltk.tokenize.sent_tokenize(text)\n",
        "\n",
        "for a in a_list:\n",
        "  if a.count('PER') > 2:\n",
        "    final.append(a)\n",
        "\n",
        "# print(final)\n",
        "\n",
        "last.close()\n",
        "\n",
        "\n",
        "wf = open(\"/content/comparison_hp_six.txt\", 'a')\n",
        "for sent in final:\n",
        "  wf.write(sent + '\\n')\n",
        "\n",
        "wf.close()\n"
      ],
      "execution_count": 17,
      "outputs": []
    },
    {
      "cell_type": "code",
      "metadata": {
        "id": "Tgp3DHNPaGNB"
      },
      "source": [
        ""
      ],
      "execution_count": 17,
      "outputs": []
    }
  ]
}